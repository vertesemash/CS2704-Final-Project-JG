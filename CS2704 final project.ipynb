{
  "nbformat": 4,
  "nbformat_minor": 0,
  "metadata": {
    "colab": {
      "provenance": [],
      "authorship_tag": "ABX9TyP16aT+CqFDc/nm4PWxHdTK",
      "include_colab_link": true
    },
    "kernelspec": {
      "name": "python3",
      "display_name": "Python 3"
    },
    "language_info": {
      "name": "python"
    }
  },
  "cells": [
    {
      "cell_type": "markdown",
      "metadata": {
        "id": "view-in-github",
        "colab_type": "text"
      },
      "source": [
        "<a href=\"https://colab.research.google.com/github/vertesemash/CS2704-Final-Project-JG/blob/main/CS2704%20final%20project.ipynb\" target=\"_parent\"><img src=\"https://colab.research.google.com/assets/colab-badge.svg\" alt=\"Open In Colab\"/></a>"
      ]
    },
    {
      "cell_type": "code",
      "execution_count": null,
      "metadata": {
        "id": "9zRyNf4cY1TR"
      },
      "outputs": [],
      "source": [
        "import pandas as pd\n",
        "import matplotlib.pyplot as plt\n",
        "import seaborn as sns\n",
        "\n",
        "gasPriceFileName = \"avg federal gas prices - cleaned.csv\"\n",
        "gasColumnNames = ['Time', 'Prices']\n",
        "gasData = pd.read_csv(gasPriceFileName, names=gasColumnNames)\n",
        "\n",
        "collisionFileName = \"Collision numbers by month cleaned.csv\"\n",
        "collisionColumnNames = ['Time','Value']\n",
        "collisionData = pd.read_csv(collisionFileName, names=collisionColumnNames)\n",
        "\n"
      ]
    }
  ]
}